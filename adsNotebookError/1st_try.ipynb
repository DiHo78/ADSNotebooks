{
    "metadata": {
        "kernelspec": {
            "name": "powershell",
            "display_name": "PowerShell"
        },
        "language_info": {
            "name": "powershell",
            "codemirror_mode": "shell",
            "mimetype": "text/x-sh",
            "file_extension": ".ps1"
        }
    },
    "nbformat_minor": 2,
    "nbformat": 4,
    "cells": [
        {
            "cell_type": "markdown",
            "source": [
                "## first try"
            ],
            "metadata": {
                "azdata_cell_guid": "6efa5acf-f3e5-4540-8270-34de44b739b3"
            }
        },
        {
            "cell_type": "code",
            "source": [
                "Get-Module ActiveDirectory -ListAvailable \r\n",
                "Get-Module dbatools -ListAvailable\r\n",
                "\r\n",
                "if( $Host -and $Host.UI -and $Host.UI.RawUI ) {\r\n",
                "    $rawUI = $Host.UI.RawUI\r\n",
                "    $oldSize = $rawUI.BufferSize\r\n",
                "    $typeName = $oldSize.GetType( ).FullName\r\n",
                "    $newSize = New-Object $typeName (500, $oldSize.Height)\r\n",
                "    $rawUI.BufferSize = $newSize\r\n",
                "  }\r\n",
                ""
            ],
            "metadata": {
                "azdata_cell_guid": "903ddc30-14dc-4413-8f41-87f4ed71ab61"
            },
            "outputs": [
                {
                    "name": "stdout",
                    "text": "In Zeile:63 Zeichen:37\n+ %set_env VSCODE_NLS_CONFIG={\"locale\":\"de\",\"availableLanguages\":{},\"_l ...\n+                                     ~~~~~\nUnerwartetes Token \":\"de\"\" in Ausdruck oder Anweisung.\nIn Zeile:63 Zeichen:42\n+ %set_env VSCODE_NLS_CONFIG={\"locale\":\"de\",\"availableLanguages\":{},\"_l ...\n+                                          ~\nArgument in der Parameterliste fehlt.\nIn Zeile:1 Zeichen:3\n+ . {\n+   ~\nDie schlie■nde \"}\" fehlt im Anweisungsblock oder der Typdefinition.\n    + CategoryInfo          : ParserError: (:) [], ParentContainsErrorRecordException\n    + FullyQualifiedErrorId : UnexpectedToken\n \n}\nIn Zeile:1 Zeichen:1\n+ }\n+ ~\nUnerwartetes Token \"}\" in Ausdruck oder Anweisung.\n    + CategoryInfo          : ParserError: (:) [], ParentContainsErrorRecordException\n    + FullyQualifiedErrorId : UnexpectedToken\n \n\n. {\n>> Get-Module ActiveDirectory -ListAvailable \n>> Get-Module dbatools -ListAvailable\n>> \n>> if( $Host -and $Host.UI -and $Host.UI.RawUI ) {\n>>     $rawUI = $Host.UI.RawUI\n>>     $oldSize = $rawUI.BufferSize\n>>     $typeName = $oldSize.GetType( ).FullName\n>>     $newSize = New-Object $typeName (500, $oldSize.Height)\n>>     $rawUI.BufferSize = $newSize\n>>   }\n>> \n>> }\n>> \n",
                    "output_type": "stream"
                }
            ],
            "execution_count": 1
        },
        {
            "cell_type": "markdown",
            "source": [
                "## second run\r\n",
                "\r\n",
                "note the \". {\"   at the end... seems strange to me"
            ],
            "metadata": {
                "azdata_cell_guid": "2aec68a6-b19f-4ba7-8ce4-1478f5708cac"
            }
        },
        {
            "cell_type": "code",
            "source": [
                "Get-Module ActiveDirectory -ListAvailable \r\n",
                "Get-Module dbatools -ListAvailable\r\n",
                "\r\n",
                "if( $Host -and $Host.UI -and $Host.UI.RawUI ) {\r\n",
                "    $rawUI = $Host.UI.RawUI\r\n",
                "    $oldSize = $rawUI.BufferSize\r\n",
                "    $typeName = $oldSize.GetType( ).FullName\r\n",
                "    $newSize = New-Object $typeName (500, $oldSize.Height)\r\n",
                "    $rawUI.BufferSize = $newSize\r\n",
                "  }\r\n",
                ""
            ],
            "metadata": {
                "azdata_cell_guid": "0820e256-65d7-488e-9d7d-1a7341cc2ee1"
            },
            "outputs": [
                {
                    "name": "stdout",
                    "text": "\n\n    Verzeichnis: C:\\Windows\\system32\\WindowsPowerShell\\v1.0\\Modules\n\n\nModuleType Version    Name                                ExportedCommands                                             \n---------- -------    ----                                ----------------                                             \nManifest   1.0.0.0    ActiveDirectory                     {Add-ADCentralAccessPolicyMember, Add-ADComputerServiceAcc...\n\n\n    Verzeichnis: C:\\Program Files\\WindowsPowerShell\\Modules\n\n\nModuleType Version    Name                                ExportedCommands                                             \n---------- -------    ----                                ----------------                                             \nScript     1.0.71     dbatools                            {Select-DbaObject, Set-DbatoolsConfig, Start-DbaMigration,...\nScript     1.0.38     dbatools                            {Select-DbaObject, Set-DbatoolsConfig, Start-DbaMigration,...\nScript     1.0.23     dbatools                            {Select-DbaObject, Set-DbatoolsConfig, Start-DbaMigration,...\n\n\n. {\n",
                    "output_type": "stream"
                }
            ],
            "execution_count": 2
        },
        {
            "cell_type": "markdown",
            "source": [
                ""
            ],
            "metadata": {
                "azdata_cell_guid": "f5d870fb-3008-47c0-85b1-414c956a6307"
            }
        },
        {
            "cell_type": "markdown",
            "source": [
                "## third run fails somehow\r\n",
                ""
            ],
            "metadata": {
                "azdata_cell_guid": "922bbede-0adf-428d-ae28-b070b77d1137"
            }
        },
        {
            "cell_type": "code",
            "source": [
                "Get-Module ActiveDirectory -ListAvailable \r\n",
                "Get-Module dbatools -ListAvailable\r\n",
                "\r\n",
                "if( $Host -and $Host.UI -and $Host.UI.RawUI ) {\r\n",
                "    $rawUI = $Host.UI.RawUI\r\n",
                "    $oldSize = $rawUI.BufferSize\r\n",
                "    $typeName = $oldSize.GetType( ).FullName\r\n",
                "    $newSize = New-Object $typeName (500, $oldSize.Height)\r\n",
                "    $rawUI.BufferSize = $newSize\r\n",
                "  }\r\n",
                ""
            ],
            "metadata": {
                "azdata_cell_guid": "87627978-261b-40bc-8ef6-c3f87a49e8c3"
            },
            "outputs": [
                {
                    "ename": "OSError",
                    "evalue": "[Errno 22] Invalid argument",
                    "traceback": [
                        "Traceback (most recent call last):\n  File \"C:\\Users\\HidingMyUserNameHere\\AppData\\Roaming\\Python\\Python36\\site-packages\\powershell_kernel\\kernel.py\", line 64, in do_execute\n    output = self.proxy.run_command(code)\n  File \"C:\\Users\\HidingMyUserNameHere\\AppData\\Roaming\\Python\\Python36\\site-packages\\powershell_kernel\\powershell_proxy.py\", line 61, in run_command\n    self._repl.write(input + '\\n')\n  File \"C:\\Users\\HidingMyUserNameHere\\AppData\\Roaming\\Python\\Python36\\site-packages\\powershell_kernel\\subprocess_repl.py\", line 60, in write\n    si.flush()\nOSError: [Errno 22] Invalid argument\n"
                    ],
                    "output_type": "error"
                }
            ],
            "execution_count": null
        },
        {
            "cell_type": "markdown",
            "source": [
                "now jupyter is broken and only relaod window helps"
            ],
            "metadata": {
                "azdata_cell_guid": "1d929d45-435e-49cd-b36c-dc0bac8fb7d2"
            }
        }
    ]
}
