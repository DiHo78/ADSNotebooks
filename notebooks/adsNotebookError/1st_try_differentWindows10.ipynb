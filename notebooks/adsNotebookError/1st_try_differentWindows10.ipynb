{
    "metadata": {
        "kernelspec": {
            "name": "powershell",
            "display_name": "PowerShell"
        },
        "language_info": {
            "name": "powershell",
            "codemirror_mode": "shell",
            "mimetype": "text/x-sh",
            "file_extension": ".ps1"
        }
    },
    "nbformat_minor": 2,
    "nbformat": 4,
    "cells": [
        {
            "cell_type": "markdown",
            "source": [
                "## first try"
            ],
            "metadata": {
                "azdata_cell_guid": "6efa5acf-f3e5-4540-8270-34de44b739b3"
            }
        },
        {
            "cell_type": "code",
            "source": [
                "Get-Module ActiveDirectory -ListAvailable \r\n",
                "Get-Module dbatools -ListAvailable\r\n",
                "\r\n",
                "if( $Host -and $Host.UI -and $Host.UI.RawUI ) {\r\n",
                "    $rawUI = $Host.UI.RawUI\r\n",
                "    $oldSize = $rawUI.BufferSize\r\n",
                "    $typeName = $oldSize.GetType( ).FullName\r\n",
                "    $newSize = New-Object $typeName (500, $oldSize.Height)\r\n",
                "    $rawUI.BufferSize = $newSize\r\n",
                "  }\r\n",
                ""
            ],
            "metadata": {
                "azdata_cell_guid": "903ddc30-14dc-4413-8f41-87f4ed71ab61"
            },
            "outputs": [
                {
                    "output_type": "stream",
                    "name": "stdout",
                    "text": "In Zeile:62 Zeichen:37\n+ %set_env VSCODE_NLS_CONFIG={\"locale\":\"de\",\"availableLanguages\":{},\"_l ...\n+                                     ~~~~~\nUnerwartetes Token \":\"de\"\" in Ausdruck oder Anweisung.\nIn Zeile:62 Zeichen:42\n+ %set_env VSCODE_NLS_CONFIG={\"locale\":\"de\",\"availableLanguages\":{},\"_l ...\n+                                          ~\nArgument in der Parameterliste fehlt.\nIn Zeile:1 Zeichen:3\n+ . {\n+   ~\nDie schlie■nde \"}\" fehlt im Anweisungsblock oder der Typdefinition.\n    + CategoryInfo          : ParserError: (:) [], ParentContainsErrorRecordEx \n   ception\n    + FullyQualifiedErrorId : UnexpectedToken\n \n}\nIn Zeile:1 Zeichen:1\n+ }\n+ ~\nUnerwartetes Token \"}\" in Ausdruck oder Anweisung.\n    + CategoryInfo          : ParserError: (:) [], ParentContainsErrorRecord"
                }
            ],
            "execution_count": 1
        },
        {
            "cell_type": "markdown",
            "source": [
                "## second run\r\n",
                "\r\n",
                "note the \". {\"   at the end... seems strange to me"
            ],
            "metadata": {
                "azdata_cell_guid": "2aec68a6-b19f-4ba7-8ce4-1478f5708cac"
            }
        },
        {
            "cell_type": "code",
            "source": [
                "Get-Module ActiveDirectory -ListAvailable \r\n",
                "Get-Module dbatools -ListAvailable\r\n",
                "\r\n",
                "if( $Host -and $Host.UI -and $Host.UI.RawUI ) {\r\n",
                "    $rawUI = $Host.UI.RawUI\r\n",
                "    $oldSize = $rawUI.BufferSize\r\n",
                "    $typeName = $oldSize.GetType( ).FullName\r\n",
                "    $newSize = New-Object $typeName (500, $oldSize.Height)\r\n",
                "    $rawUI.BufferSize = $newSize\r\n",
                "  }\r\n",
                ""
            ],
            "metadata": {
                "azdata_cell_guid": "0820e256-65d7-488e-9d7d-1a7341cc2ee1"
            },
            "outputs": [
                {
                    "output_type": "stream",
                    "name": "stdout",
                    "text": "\n\n    Verzeichnis: C:\\Program Files\\WindowsPowerShell\\Modules\n\n\nModuleType Version    Name                                ExportedCommands     \n---------- -------    ----                                ----------------     \nScript     0.9.431    dbatools                            {Select-DbaObject,...\nScript     0.9.385    dbatools                            {Start-DbaMigratio...\nScript     0.9.348    dbatools                            {Start-DbaMigratio...\n\n\n. {\n>> Get-Module ActiveDirectory -ListAvailable \n>> Get-Module dbatools -ListAvailable\n>> \n>> if( $Host -and $Host.UI -and $Host.UI.RawUI ) {\n>>     $rawUI = $Host.UI.RawUI\n>>     $oldSize = $rawUI.BufferSize\n>>     $typeName = $oldSize.GetType( ).FullName\n>>     $newSize = New-Object $typeName (500, $oldSize.Height)\n>>     $rawUI.BufferSize"
                }
            ],
            "execution_count": 2
        },
        {
            "cell_type": "markdown",
            "source": [
                ""
            ],
            "metadata": {
                "azdata_cell_guid": "f5d870fb-3008-47c0-85b1-414c956a6307"
            }
        },
        {
            "cell_type": "markdown",
            "source": [
                "## third run does not fail\r\n",
                ""
            ],
            "metadata": {
                "azdata_cell_guid": "922bbede-0adf-428d-ae28-b070b77d1137"
            }
        },
        {
            "cell_type": "code",
            "source": [
                "Get-Module ActiveDirectory -ListAvailable \r\n",
                "Get-Module dbatools -ListAvailable\r\n",
                "\r\n",
                "if( $Host -and $Host.UI -and $Host.UI.RawUI ) {\r\n",
                "    $rawUI = $Host.UI.RawUI\r\n",
                "    $oldSize = $rawUI.BufferSize\r\n",
                "    $typeName = $oldSize.GetType( ).FullName\r\n",
                "    $newSize = New-Object $typeName (500, $oldSize.Height)\r\n",
                "    $rawUI.BufferSize = $newSize\r\n",
                "  }\r\n",
                ""
            ],
            "metadata": {
                "azdata_cell_guid": "87627978-261b-40bc-8ef6-c3f87a49e8c3"
            },
            "outputs": [
                {
                    "output_type": "stream",
                    "name": "stdout",
                    "text": "\n\n    Verzeichnis: C:\\Program Files\\WindowsPowerShell\\Modules\n\n\nModuleType Version    Name                                ExportedCommands                                                                                                                                                                                                                                                                                                                                                                                                                                         \n---------- -------    ----                                ----------------                                                                                                                                                                                                                                                                                                                                                                                                                                         \nScript     0.9.431    dbatools                            {Select-DbaObject, Start-DbaMigration, Copy-DbaDatabase, Copy-DbaLogin...}                                                                                                                                                                                                                                                                                                                                                                               \nScript     0.9.385    dbatools                            {Start-DbaMigration, Copy-DbaDatabase, Copy-DbaLogin, Copy-DbaSqlServerAgent...}                                                                                                                                                                                                                                                                                                                                                                         \nScript     0.9.348    dbatools                            {Start-DbaMigration, Copy-DbaDatabase, Copy-DbaLogin, Copy-DbaSqlServerAgent...}                                                                                                                                                                                                                                                                                                                                                                         \n\n\n. {\n>> Get-Module ActiveDirectory -ListAvailable \n>> Get-Module dbatools -ListAvailable\n>> \n>> if( $Host -and $Host.UI -and $Host.UI.RawUI ) {\n>>     $rawUI = $Host.UI.RawUI\n>>     $oldSize = $rawUI.BufferSize\n>>     $typeName = $oldSize.GetType( ).FullName\n>>     $newSize = New-Object $typeName (500, $oldSi"
                }
            ],
            "execution_count": 7
        }
    ]
}