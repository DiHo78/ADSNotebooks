{
    "metadata": {
        "kernelspec": {
            "name": "powershell",
            "display_name": "PowerShell"
        },
        "language_info": {
            "name": "powershell",
            "codemirror_mode": "shell",
            "mimetype": "text/x-sh",
            "file_extension": ".ps1"
        }
    },
    "nbformat_minor": 2,
    "nbformat": 4,
    "cells": [
        {
            "cell_type": "markdown",
            "source": [
                "## second try - 1st run\r\n",
                "Now without Robs if part"
            ],
            "metadata": {
                "azdata_cell_guid": "64f13593-a5cf-400e-8ffc-dc6be55e836e"
            }
        },
        {
            "cell_type": "code",
            "source": [
                "Get-Module ActiveDirectory -ListAvailable \r\n",
                "Get-Module dbatools -ListAvailable\r\n",
                "<#\r\n",
                "if( $Host -and $Host.UI -and $Host.UI.RawUI ) {\r\n",
                "    $rawUI = $Host.UI.RawUI\r\n",
                "    $oldSize = $rawUI.BufferSize\r\n",
                "    $typeName = $oldSize.GetType( ).FullName\r\n",
                "    $newSize = New-Object $typeName (500, $oldSize.Height)\r\n",
                "    $rawUI.BufferSize = $newSize\r\n",
                "  }\r\n",
                "\r\n",
                "  #>"
            ],
            "metadata": {
                "azdata_cell_guid": "b5201adf-f5d0-4cdb-ba55-2a7f32eacf60"
            },
            "outputs": [
                {
                    "output_type": "stream",
                    "name": "stdout",
                    "text": "In Zeile:62 Zeichen:37\n+ %set_env VSCODE_NLS_CONFIG={\"locale\":\"de\",\"availableLanguages\":{},\"_l ...\n+                                     ~~~~~\nUnerwartetes Token \":\"de\"\" in Ausdruck oder Anweisung.\nIn Zeile:62 Zeichen:42\n+ %set_env VSCODE_NLS_CONFIG={\"locale\":\"de\",\"availableLanguages\":{},\"_l ...\n+                                          ~\nArgument in der Parameterliste fehlt.\nIn Zeile:1 Zeichen:3\n+ . {\n+   ~\nDie schlie■nde \"}\" fehlt im Anweisungsblock oder der Typdefinition.\n    + CategoryInfo          : ParserError: (:) [], ParentContainsErrorRecordEx \n   ception\n    + FullyQualifiedErrorId : UnexpectedToken\n \n}\nIn Zeile:1 Zeichen:1\n+ }\n+ ~\nUnerwartetes Token \"}\" in Ausdruck oder Anweisung.\n    + CategoryInfo          : ParserError: (:) [], ParentContainsErrorRecordEx \n   ception\n    + FullyQualifiedErrorId : UnexpectedToken\n \n\n. {\n>> Get-Module ActiveDirectory -ListAvailable \n>> Get-Module dbatools -ListAvailable\n>> <#\n>> if( $Host -and $Host.UI -and $Host.UI.RawUI ) {\n>>     $rawUI = $Host.UI.RawUI\n>>     $oldSize = $rawUI.BufferSize\n>>     $typeName = $oldSize.GetType( ).FullName\n>>     $newSize = New-Object $typeName (500, $oldSize.Height)\n>>     $rawU"
                }
            ],
            "execution_count": 1
        },
        {
            "cell_type": "markdown",
            "source": [
                "## 2nd run\r\n",
                "I'm still confused regarding the output of the command in the result pane"
            ],
            "metadata": {
                "azdata_cell_guid": "0a87a3e7-f38e-4cf8-b09f-2ce98015632b"
            }
        },
        {
            "cell_type": "code",
            "source": [
                "Get-Module ActiveDirectory -ListAvailable \r\n",
                "Get-Module dbatools -ListAvailable\r\n",
                "<#\r\n",
                "if( $Host -and $Host.UI -and $Host.UI.RawUI ) {\r\n",
                "    $rawUI = $Host.UI.RawUI\r\n",
                "    $oldSize = $rawUI.BufferSize\r\n",
                "    $typeName = $oldSize.GetType( ).FullName\r\n",
                "    $newSize = New-Object $typeName (500, $oldSize.Height)\r\n",
                "    $rawUI.BufferSize = $newSize\r\n",
                "  }\r\n",
                "\r\n",
                "  #>"
            ],
            "metadata": {
                "azdata_cell_guid": "a7583644-e660-4de7-9d13-b5591533d984"
            },
            "outputs": [
                {
                    "output_type": "stream",
                    "name": "stdout",
                    "text": "\n\n    Verzeichnis: C:\\Program Files\\WindowsPowerShell\\Modules\n\n\nModuleType Version    Name                                ExportedCommands     \n---------- -------    ----                                ----------------     \nScript     0.9.431    dbatools                            {Select-DbaObject,...\nScript     0.9.385    dbatools                            {Start-DbaMigratio...\nScript     0.9.348    dbatools                            {Start-DbaMigratio...\n\n\n. {\n>> Get-Module ActiveDirectory -ListAvailable \n>> Get-Module dbatools -ListAvailable\n>> <#\n>> if( $Host -and $Host.UI -and $Host.UI.RawUI ) {\n>>     $rawUI = $Host.UI.RawUI\n>>     $oldSize = $rawUI.BufferSize\n>>     $typeName = $oldSize.GetType( ).FullName\n>>     $newSize = New-Object $typeName (500, $oldSize.Height)\n>>     $rawUI.BufferSize = $newSize\n>>   }\n>> \n>>   #>\n>> }\n>> \n"
                }
            ],
            "execution_count": 2
        },
        {
            "cell_type": "markdown",
            "source": [
                "## 3rd run\r\n",
                "It works somehow now"
            ],
            "metadata": {
                "azdata_cell_guid": "adc7cec9-0188-4d5e-9cde-a4e9a6abc629"
            }
        },
        {
            "cell_type": "code",
            "source": [
                "Get-Module ActiveDirectory -ListAvailable \r\n",
                "Get-Module dbatools -ListAvailable\r\n",
                "<#\r\n",
                "if( $Host -and $Host.UI -and $Host.UI.RawUI ) {\r\n",
                "    $rawUI = $Host.UI.RawUI\r\n",
                "    $oldSize = $rawUI.BufferSize\r\n",
                "    $typeName = $oldSize.GetType( ).FullName\r\n",
                "    $newSize = New-Object $typeName (500, $oldSize.Height)\r\n",
                "    $rawUI.BufferSize = $newSize\r\n",
                "  }\r\n",
                "\r\n",
                "  #>"
            ],
            "metadata": {
                "azdata_cell_guid": "4713ca72-fb14-4517-9b8f-cc7d38029290"
            },
            "outputs": [
                {
                    "output_type": "stream",
                    "name": "stdout",
                    "text": "\n\n    Verzeichnis: C:\\Program Files\\WindowsPowerShell\\Modules\n\n\nModuleType Version    Name                                ExportedCommands     \n---------- -------    ----                                ----------------     \nScript     0.9.431    dbatools                            {Select-DbaObject,...\nScript     0.9.385    dbatools                            {Start-DbaMigratio...\nScript     0.9.348    dbatools                            {Start-DbaMigratio...\n\n\n. {\n>> Get-Module ActiveDirectory -ListAvailable \n>> Get-Module dbatools -ListAvailable\n>> <#\n>> if( $Host -and $Host.UI -and $Host.UI.RawUI ) {\n>>     $rawUI = $Host.UI.RawUI\n>>     $oldSize = $rawUI.BufferSize\n>>     $typeName"
                }
            ],
            "execution_count": 3
        },
        {
            "cell_type": "markdown",
            "source": [
                "## 4th run with Robs if part again\r\n",
                "### Now with a few tries one after another"
            ],
            "metadata": {
                "azdata_cell_guid": "2486a96b-dc68-470e-8fce-104cb4ad4014"
            }
        },
        {
            "cell_type": "code",
            "source": [
                "Get-Module ActiveDirectory -ListAvailable \r\n",
                "Get-Module dbatools -ListAvailable\r\n",
                "\r\n",
                "if( $Host -and $Host.UI -and $Host.UI.RawUI ) {\r\n",
                "    $rawUI = $Host.UI.RawUI\r\n",
                "    $oldSize = $rawUI.BufferSize\r\n",
                "    $typeName = $oldSize.GetType( ).FullName\r\n",
                "    $newSize = New-Object $typeName (500, $oldSize.Height)\r\n",
                "    $rawUI.BufferSize = $newSize\r\n",
                "  }\r\n",
                "\r\n",
                "  "
            ],
            "metadata": {
                "azdata_cell_guid": "6b1f2f7c-8b29-4431-8450-06b1eed99ae0"
            },
            "outputs": [
                {
                    "name": "stdout",
                    "text": "In Zeile:62 Zeichen:37\n+ %set_env VSCODE_NLS_CONFIG={\"locale\":\"de\",\"availableLanguages\":{},\"_l ...\n+                                     ~~~~~\nUnerwartetes Token \":\"de\"\" in Ausdruck oder Anweisung.\nIn Zeile:62 Zeichen:42\n+ %set_env VSCODE_NLS_CONFIG={\"locale\":\"de\",\"availableLanguages\":{},\"_l ...\n+                                          ~\nArgument in der Parameterliste fehlt.\nIn Zeile:1 Zeichen:3\n+ . {\n+   ~\nDie schlie■nde \"}\" fehlt im Anweisungsblock oder der Typdefinition.\n    + CategoryInfo          : ParserError: (:) [], ParentContainsErrorRecordEx \n   ception\n    + FullyQualifiedErrorId : UnexpectedToken\n \n}\n",
                    "output_type": "stream"
                }
            ],
            "execution_count": 1
        },
        {
            "cell_type": "code",
            "source": [
                "Get-Module ActiveDirectory -ListAvailable \r\n",
                "Get-Module dbatools -ListAvailable\r\n",
                "\r\n",
                "if( $Host -and $Host.UI -and $Host.UI.RawUI ) {\r\n",
                "    $rawUI = $Host.UI.RawUI\r\n",
                "    $oldSize = $rawUI.BufferSize\r\n",
                "    $typeName = $oldSize.GetType( ).FullName\r\n",
                "    $newSize = New-Object $typeName (500, $oldSize.Height)\r\n",
                "    $rawUI.BufferSize = $newSize\r\n",
                "  }"
            ],
            "metadata": {
                "azdata_cell_guid": "0a833f39-de3b-4917-a570-693ec3be3ddc"
            },
            "outputs": [
                {
                    "name": "stdout",
                    "text": "In Zeile:1 Zeichen:1\n+ }\n+ ~\nUnerwartetes Token \"}\" in Ausdruck oder Anweisung.\n    + CategoryInfo          : ParserError: (:) [], ParentContainsErrorRecordEx \n   ception\n    + FullyQualifiedErrorId : UnexpectedToken\n \n\n. {\n>> Get-Module ActiveDirectory -ListAvailable \n>> Get-Module dbatools -ListAvailable\n>> \n>> if( $Host -and $Host.UI -and $Host.UI.RawUI ) {\n>>     $rawUI = $Host.UI.RawUI\n>>     $oldSize = $rawUI.BufferSize\n>>",
                    "output_type": "stream"
                }
            ],
            "execution_count": 2
        },
        {
            "cell_type": "code",
            "source": [
                "Get-Module ActiveDirectory -ListAvailable \r\n",
                "Get-Module dbatools -ListAvailable\r\n",
                "\r\n",
                "if( $Host -and $Host.UI -and $Host.UI.RawUI ) {\r\n",
                "    $rawUI = $Host.UI.RawUI\r\n",
                "    $oldSize = $rawUI.BufferSize\r\n",
                "    $typeName = $oldSize.GetType( ).FullName\r\n",
                "    $newSize = New-Object $typeName (500, $oldSize.Height)\r\n",
                "    $rawUI.BufferSize = $newSize\r\n",
                "  }"
            ],
            "metadata": {
                "azdata_cell_guid": "260febba-a585-4fff-b152-53dc292d1fd4"
            },
            "outputs": [
                {
                    "name": "stdout",
                    "text": "\n\n    Verzeichnis: C:\\Program Files\\WindowsPowerShell\\Modules\n\n\nModuleType Version    Name                                ExportedCommands                                                                                                                                                                                                                                                                                                                                                                                                                                         \n---------- -------    ----                                ----------------                                                                                                                                                                                                                                                                                                                                                                                                                                         \nScript     0.9.431    dbatools                            {Select-DbaObject, Start-DbaMigration, Copy-DbaDatabase, Copy-DbaLogin...}                                                                                                                                                                                                                                                                                                                                                                               \nScript     0.9.385    dbatools                            {Start-DbaMigration, Copy-DbaDatabase, Copy-DbaLogin, Copy-DbaSqlServerAgent...}                                                                                                                                                                                                                                                                                                                                                                         \nScript     0.9.348    dbatools                            {Start-DbaMigration, Copy-DbaDatabase, Copy-DbaLogin, Copy-DbaSqlServerAgent...}                                                                                                                                                                                                                                                                                                                                                                         \n\n\n. {\n>> Get-Module ActiveDirectory -ListAvailable \n>> Get-Module dbatools -ListAvailable\n>> \n>> if( $Host -and $Host.UI -and $Host.UI.RawUI ) {\n>>     $rawUI = ",
                    "output_type": "stream"
                }
            ],
            "execution_count": 3
        },
        {
            "cell_type": "code",
            "source": [
                "Get-Module ActiveDirectory -ListAvailable \r\n",
                "Get-Module dbatools -ListAvailable\r\n",
                "\r\n",
                "if( $Host -and $Host.UI -and $Host.UI.RawUI ) {\r\n",
                "    $rawUI = $Host.UI.RawUI\r\n",
                "    $oldSize = $rawUI.BufferSize\r\n",
                "    $typeName = $oldSize.GetType( ).FullName\r\n",
                "    $newSize = New-Object $typeName (500, $oldSize.Height)\r\n",
                "    $rawUI.BufferSize = $newSize\r\n",
                "  }"
            ],
            "metadata": {
                "azdata_cell_guid": "7d647bf2-67a4-42d5-bec7-c419dca42e64"
            },
            "outputs": [
                {
                    "name": "stdout",
                    "text": "\n\n    Verzeichnis: C:\\Program Files\\WindowsPowerShell\\Modules\n\n\nModuleType Version    Name                                ExportedCommands                                                                                                                                                                                                                                                                                                                                                                                                                                         \n---------- -------    ----                                ----------------                                                                                                                                                                                                                                                                                                                                                                                                                                         \nScript     0.9.431    dbatools                            {Select-DbaObject, Start-DbaMigration, Copy-DbaDatabase, Copy-DbaLogin...}                                                                                                                                                                                                                                                                                                                                                                               \nScript     0.9.385    dbatools                            {Start-DbaMigration, Copy-DbaDatabase, Copy-DbaLogin, Copy-DbaSqlServerAgent...}                                                                                                                                                                                                                                                                                                                                                                         \nScript     0.9.348    dbatools                            {Start-DbaMigration, Copy-DbaDatabase, Copy-DbaLogin, Copy-DbaSqlServerAgent...}                                                                                                                                                                                                                                                                                                                                                                         \n\n\n. {\n>> Get-Module ActiveDirectory -ListAvailable \n>> Get-Module dbatools -ListAvailable\n>> \n>> if( $Host -and $Host.UI -and $Host.UI.RawUI ) {\n>>     $rawUI = $Host.UI.RawUI\n>>  ",
                    "output_type": "stream"
                }
            ],
            "execution_count": 8
        }
    ]
}