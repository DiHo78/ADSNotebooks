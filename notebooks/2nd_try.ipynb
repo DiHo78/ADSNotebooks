{
    "metadata": {
        "kernelspec": {
            "name": "powershell",
            "display_name": "PowerShell"
        },
        "language_info": {
            "name": "powershell",
            "codemirror_mode": "shell",
            "mimetype": "text/x-sh",
            "file_extension": ".ps1"
        }
    },
    "nbformat_minor": 2,
    "nbformat": 4,
    "cells": [
        {
            "cell_type": "markdown",
            "source": [
                "## second try - 1st run\r\n",
                "Now without Robs if part"
            ],
            "metadata": {
                "azdata_cell_guid": "64f13593-a5cf-400e-8ffc-dc6be55e836e"
            }
        },
        {
            "cell_type": "code",
            "source": [
                "Get-Module ActiveDirectory -ListAvailable \r\n",
                "Get-Module dbatools -ListAvailable\r\n",
                "<#\r\n",
                "if( $Host -and $Host.UI -and $Host.UI.RawUI ) {\r\n",
                "    $rawUI = $Host.UI.RawUI\r\n",
                "    $oldSize = $rawUI.BufferSize\r\n",
                "    $typeName = $oldSize.GetType( ).FullName\r\n",
                "    $newSize = New-Object $typeName (500, $oldSize.Height)\r\n",
                "    $rawUI.BufferSize = $newSize\r\n",
                "  }\r\n",
                "\r\n",
                "  #>"
            ],
            "metadata": {
                "azdata_cell_guid": "b5201adf-f5d0-4cdb-ba55-2a7f32eacf60"
            },
            "outputs": [
                {
                    "name": "stdout",
                    "text": "In Zeile:63 Zeichen:37\n+ %set_env VSCODE_NLS_CONFIG={\"locale\":\"de\",\"availableLanguages\":{},\"_l ...\n+                                     ~~~~~\nUnerwartetes Token \":\"de\"\" in Ausdruck oder Anweisung.\nIn Zeile:63 Zeichen:42\n+ %set_env VSCODE_NLS_CONFIG={\"locale\":\"de\",\"availableLanguages\":{},\"_l ...\n+                                          ~\nArgument in der Parameterliste fehlt.\nIn Zeile:1 Zeichen:3\n+ . {\n+   ~\nDie schlie■nde \"}\" fehlt im Anweisungsblock oder der Typdefinition.\n    + CategoryInfo          : ParserError: (:) [], ParentContainsErrorRecordException\n    + FullyQualifiedErrorId : UnexpectedToken\n \n}\nIn Zeile:1 Zeichen:1\n+ }\n+ ~\nUnerwartetes Token \"}\" in Ausdruck oder Anweisung.\n    + CategoryInfo          : ParserError: (:) [], ParentContainsErrorRecordException\n    + FullyQualifiedErrorId : UnexpectedToken\n \n\n. {\n>> Get-Module ActiveDirectory -ListAvailable \n>> Get-Module dbatools -ListAvailable\n>> <#\n>> if( $Host -and $Host.UI -and $Host.UI.RawUI ) {\n>>     $rawUI = $Host.UI.RawUI\n>>     $oldSize = $raw",
                    "output_type": "stream"
                }
            ],
            "execution_count": 1
        },
        {
            "cell_type": "markdown",
            "source": [
                "## 2nd run\r\n",
                "I'm still confused regarding the output of the command in the result pane"
            ],
            "metadata": {
                "azdata_cell_guid": "0a87a3e7-f38e-4cf8-b09f-2ce98015632b"
            }
        },
        {
            "cell_type": "code",
            "source": [
                "Get-Module ActiveDirectory -ListAvailable \r\n",
                "Get-Module dbatools -ListAvailable\r\n",
                "<#\r\n",
                "if( $Host -and $Host.UI -and $Host.UI.RawUI ) {\r\n",
                "    $rawUI = $Host.UI.RawUI\r\n",
                "    $oldSize = $rawUI.BufferSize\r\n",
                "    $typeName = $oldSize.GetType( ).FullName\r\n",
                "    $newSize = New-Object $typeName (500, $oldSize.Height)\r\n",
                "    $rawUI.BufferSize = $newSize\r\n",
                "  }\r\n",
                "\r\n",
                "  #>"
            ],
            "metadata": {
                "azdata_cell_guid": "a7583644-e660-4de7-9d13-b5591533d984"
            },
            "outputs": [
                {
                    "name": "stdout",
                    "text": "\n\n    Verzeichnis: C:\\Windows\\system32\\WindowsPowerShell\\v1.0\\Modules\n\n\nModuleType Version    Name                                ExportedCommands                                             \n---------- -------    ----                                ----------------                                             \nManifest   1.0.0.0    ActiveDirectory                     {Add-ADCentralAccessPolicyMember, Add-ADComputerServiceAcc...\n\n\n    Verzeichnis: C:\\Program Files\\WindowsPowerShell\\Modules\n\n\nModuleType Version    Name                                ExportedCommands                                             \n---------- -------    ----                                ----------------                                             \nScript     1.0.71     dbatools                            {Select-DbaObject, Set-DbatoolsConfig, Start-DbaMigration,...\nScript     1.0.38     dbatools                            {Select-DbaObject, Set-DbatoolsConfig, Start-DbaMigration,...\nScript     1.0.23     dbatools                            {Select-DbaObject, Set-DbatoolsConfig, Start-DbaMigration,...\n\n\n. {\n>> Get-Module ActiveDirectory -ListAvailable \n>> Get-Module dbatools -ListAvailable\n>> <#\n>> if( $Host -and $Host.UI -and $Host.UI.RawUI ) {\n>>     $rawUI = $Host.UI.RawUI\n>>     $oldSize = $rawUI.BufferSize\n>>     $typeName = $oldSize.GetType( ).FullName\n>>     $newSize = New-Objec",
                    "output_type": "stream"
                }
            ],
            "execution_count": 2
        },
        {
            "cell_type": "markdown",
            "source": [
                "## 3rd run\r\n",
                "It works somehow now"
            ],
            "metadata": {
                "azdata_cell_guid": "adc7cec9-0188-4d5e-9cde-a4e9a6abc629"
            }
        },
        {
            "cell_type": "code",
            "source": [
                "Get-Module ActiveDirectory -ListAvailable \r\n",
                "Get-Module dbatools -ListAvailable\r\n",
                "<#\r\n",
                "if( $Host -and $Host.UI -and $Host.UI.RawUI ) {\r\n",
                "    $rawUI = $Host.UI.RawUI\r\n",
                "    $oldSize = $rawUI.BufferSize\r\n",
                "    $typeName = $oldSize.GetType( ).FullName\r\n",
                "    $newSize = New-Object $typeName (500, $oldSize.Height)\r\n",
                "    $rawUI.BufferSize = $newSize\r\n",
                "  }\r\n",
                "\r\n",
                "  #>"
            ],
            "metadata": {
                "azdata_cell_guid": "4713ca72-fb14-4517-9b8f-cc7d38029290"
            },
            "outputs": [
                {
                    "name": "stdout",
                    "text": "\n\n    Verzeichnis: C:\\Windows\\system32\\WindowsPowerShell\\v1.0\\Modules\n\n\nModuleType Version    Name                                ExportedCommands                                             \n---------- -------    ----                                ----------------                                             \nManifest   1.0.0.0    ActiveDirectory                     {Add-ADCentralAccessPolicyMember, Add-ADComputerServiceAcc...\n\n\n    Verzeichnis: C:\\Program Files\\WindowsPowerShell\\Modules\n\n\nModuleType Version    Name                                ExportedCommands                                             \n---------- -------    ----                                ----------------                                             \nScript     1.0.71     dbatools                            {Select-DbaObject, Set-DbatoolsConfig, Start-DbaMigration,...\nScript     1.0.38     dbatools                            {Select-DbaObject, Set-DbatoolsConfig, Start-DbaMigration,...\nScript     1.0.23     dbatools                            {Select-DbaObject, Set-DbatoolsConfig, Start-DbaMigration,...\n\n\n. {\n>> Get-Module ActiveDirectory -ListAvailable \n>> Get-Module dbatools -ListAvailable\n>> <#\n>> if( $Host -and $Host.UI -and $Host.UI.RawUI ) {\n>>     $rawUI = $Host.UI.RawUI\n>>     $oldSize = $rawUI.BufferSize\n>>     $typeName = $oldSize.GetType( ).FullName\n>>     $newSize = New-Object $typeName (500, $oldSize.Height)\n>>     $rawUI.BufferSize",
                    "output_type": "stream"
                }
            ],
            "execution_count": 3
        },
        {
            "cell_type": "markdown",
            "source": [
                "## 4th run with Robs if part again\r\n",
                "### Now with a few tries one after another"
            ],
            "metadata": {
                "azdata_cell_guid": "2486a96b-dc68-470e-8fce-104cb4ad4014"
            }
        },
        {
            "cell_type": "code",
            "source": [
                "Get-Module ActiveDirectory -ListAvailable \r\n",
                "Get-Module dbatools -ListAvailable\r\n",
                "\r\n",
                "if( $Host -and $Host.UI -and $Host.UI.RawUI ) {\r\n",
                "    $rawUI = $Host.UI.RawUI\r\n",
                "    $oldSize = $rawUI.BufferSize\r\n",
                "    $typeName = $oldSize.GetType( ).FullName\r\n",
                "    $newSize = New-Object $typeName (500, $oldSize.Height)\r\n",
                "    $rawUI.BufferSize = $newSize\r\n",
                "  }\r\n",
                "\r\n",
                "  "
            ],
            "metadata": {
                "azdata_cell_guid": "6b1f2f7c-8b29-4431-8450-06b1eed99ae0"
            },
            "outputs": [
                {
                    "name": "stdout",
                    "text": "\n\n    Verzeichnis: C:\\Windows\\system32\\WindowsPowerShell\\v1.0\\Modules\n\n\nModuleType Version    Name                                ExportedCommands                                             \n---------- -------    ----                                ----------------                                             \nManifest   1.0.0.0    ActiveDirectory                     {Add-ADCentralAccessPolicyMember, Add-ADComputerServiceAcc...\n\n\n    Verzeichnis: C:\\Program Files\\WindowsPowerShell\\Modules\n\n\nModuleType Version    Name                                ExportedCommands                                             \n---------- -------    ----                                ----------------                                             \nScript     1.0.71     dbatools                            {Select-DbaObject, Set-DbatoolsConfig, Start-DbaMigration,...\nScript     1.0.38     dbatools                            {Select-DbaObject, Set-DbatoolsConfig, Start-DbaMigration,...\nScript     1.0.23     dbatools                            {Select-DbaObject, Set-DbatoolsConfig, Start-DbaMigration,...\n\n\n. {\n>> Get-Module ActiveDirectory -ListAvailable \n>> Get-Module dbatools -ListAvailable\n>> \n>> if( $Host -and $Host.UI -and $Host.UI.RawUI ) {\n>>     $rawUI = $Host.UI.RawUI\n>>     $oldSize = $rawUI.BufferSize\n>>     $typeName = $oldSize.GetType( ).FullName\n>>     $newSize = New-Obj",
                    "output_type": "stream"
                }
            ],
            "execution_count": 4
        },
        {
            "cell_type": "code",
            "source": [
                "Get-Module ActiveDirectory -ListAvailable \r\n",
                "Get-Module dbatools -ListAvailable\r\n",
                "\r\n",
                "if( $Host -and $Host.UI -and $Host.UI.RawUI ) {\r\n",
                "    $rawUI = $Host.UI.RawUI\r\n",
                "    $oldSize = $rawUI.BufferSize\r\n",
                "    $typeName = $oldSize.GetType( ).FullName\r\n",
                "    $newSize = New-Object $typeName (500, $oldSize.Height)\r\n",
                "    $rawUI.BufferSize = $newSize\r\n",
                "  }"
            ],
            "metadata": {
                "azdata_cell_guid": "0a833f39-de3b-4917-a570-693ec3be3ddc"
            },
            "outputs": [
                {
                    "name": "stdout",
                    "text": "\n\n    Verzeichnis: C:\\Windows\\system32\\WindowsPowerShell\\v1.0\\Modules\n\n\nModuleType Version    Name                                ExportedCommands                                             \n---------- -------    ----                                ----------------                                             \nManifest   1.0.0.0    ActiveDirectory                     {Add-ADCentralAccessPolicyMember, Add-ADComputerServiceAcc...\n\n\n    Verzeichnis: C:\\Program Files\\WindowsPowerShell\\Modules\n\n\nModuleType Version    Name                                ExportedCommands                                             \n---------- -------    ----                                ----------------                                             \nScript     1.0.71     dbatools                            {Select-DbaObject, Set-DbatoolsConfig, Start-DbaMigration,...\nScript     1.0.38     dbatools                            {Select-DbaObject, Set-DbatoolsConfig, Start-DbaMigration,...\nScript     1.0.23     dbatools                            {Select-DbaObject, Set-DbatoolsConfig, Start-DbaMigration,...\n\n\n. {\n",
                    "output_type": "stream"
                }
            ],
            "execution_count": 5
        },
        {
            "cell_type": "code",
            "source": [
                "Get-Module ActiveDirectory -ListAvailable \r\n",
                "Get-Module dbatools -ListAvailable\r\n",
                "\r\n",
                "if( $Host -and $Host.UI -and $Host.UI.RawUI ) {\r\n",
                "    $rawUI = $Host.UI.RawUI\r\n",
                "    $oldSize = $rawUI.BufferSize\r\n",
                "    $typeName = $oldSize.GetType( ).FullName\r\n",
                "    $newSize = New-Object $typeName (500, $oldSize.Height)\r\n",
                "    $rawUI.BufferSize = $newSize\r\n",
                "  }"
            ],
            "metadata": {
                "azdata_cell_guid": "260febba-a585-4fff-b152-53dc292d1fd4"
            },
            "outputs": [
                {
                    "ename": "OSError",
                    "evalue": "[Errno 22] Invalid argument",
                    "traceback": [
                        "Traceback (most recent call last):\n  File \"C:\\Users\\HideMyUserName\\AppData\\Roaming\\Python\\Python36\\site-packages\\powershell_kernel\\kernel.py\", line 64, in do_execute\n    output = self.proxy.run_command(code)\n  File \"C:\\Users\\HideMyUserName\\AppData\\Roaming\\Python\\Python36\\site-packages\\powershell_kernel\\powershell_proxy.py\", line 61, in run_command\n    self._repl.write(input + '\\n')\n  File \"C:\\Users\\HideMyUserName\\AppData\\Roaming\\Python\\Python36\\site-packages\\powershell_kernel\\subprocess_repl.py\", line 60, in write\n    si.flush()\nOSError: [Errno 22] Invalid argument\n"
                    ],
                    "output_type": "error"
                }
            ],
            "execution_count": null
        },
        {
            "cell_type": "code",
            "source": [
                "Get-Module ActiveDirectory -ListAvailable \r\n",
                "Get-Module dbatools -ListAvailable\r\n",
                "\r\n",
                "if( $Host -and $Host.UI -and $Host.UI.RawUI ) {\r\n",
                "    $rawUI = $Host.UI.RawUI\r\n",
                "    $oldSize = $rawUI.BufferSize\r\n",
                "    $typeName = $oldSize.GetType( ).FullName\r\n",
                "    $newSize = New-Object $typeName (500, $oldSize.Height)\r\n",
                "    $rawUI.BufferSize = $newSize\r\n",
                "  }"
            ],
            "metadata": {
                "azdata_cell_guid": "7d647bf2-67a4-42d5-bec7-c419dca42e64"
            },
            "outputs": [
                {
                    "ename": "OSError",
                    "evalue": "[Errno 22] Invalid argument",
                    "traceback": [
                        "Traceback (most recent call last):\n  File \"C:\\Users\\HideMyUserName\\AppData\\Roaming\\Python\\Python36\\site-packages\\powershell_kernel\\kernel.py\", line 64, in do_execute\n    output = self.proxy.run_command(code)\n  File \"C:\\Users\\HideMyUserName\\AppData\\Roaming\\Python\\Python36\\site-packages\\powershell_kernel\\powershell_proxy.py\", line 61, in run_command\n    self._repl.write(input + '\\n')\n  File \"C:\\Users\\HideMyUserName\\AppData\\Roaming\\Python\\Python36\\site-packages\\powershell_kernel\\subprocess_repl.py\", line 60, in write\n    si.flush()\nOSError: [Errno 22] Invalid argument\n"
                    ],
                    "output_type": "error"
                }
            ],
            "execution_count": null
        }
    ]
}